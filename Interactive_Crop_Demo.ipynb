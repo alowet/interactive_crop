{
 "cells": [
  {
   "cell_type": "markdown",
   "metadata": {},
   "source": [
    "# Interactive Cropping Tool Demo"
   ]
  },
  {
   "cell_type": "code",
   "execution_count": 24,
   "metadata": {},
   "outputs": [
    {
     "data": {
      "application/vnd.jupyter.widget-view+json": {
       "model_id": "502fcc9a764b4d3aa78e91f540f256d2",
       "version_major": 2,
       "version_minor": 0
      },
      "text/plain": [
       "GridBox(children=(Dropdown(description='Image Name:', layout=Layout(grid_area='im_selector'), options=('image_…"
      ]
     },
     "metadata": {},
     "output_type": "display_data"
    }
   ],
   "source": [
    "# import interactive_crop\n",
    "import os\n",
    "image_list = ['image_samples/'+i for i in os.listdir('image_samples')]\n",
    "main(image_list)"
   ]
  },
  {
   "cell_type": "code",
   "execution_count": 25,
   "metadata": {},
   "outputs": [
    {
     "ename": "IndentationError",
     "evalue": "expected an indented block (shapes.py, line 12)",
     "output_type": "error",
     "traceback": [
      "Traceback \u001b[0;36m(most recent call last)\u001b[0m:\n",
      "  File \u001b[1;32m\"/Users/samjett/Documents/Interactive_Jupyter/env/lib/python3.7/site-packages/IPython/core/interactiveshell.py\"\u001b[0m, line \u001b[1;32m3296\u001b[0m, in \u001b[1;35mrun_code\u001b[0m\n    exec(code_obj, self.user_global_ns, self.user_ns)\n",
      "\u001b[0;36m  File \u001b[0;32m\"<ipython-input-25-e6702c695fef>\"\u001b[0;36m, line \u001b[0;32m7\u001b[0;36m, in \u001b[0;35m<module>\u001b[0;36m\u001b[0m\n\u001b[0;31m    from shapes import Rectangle, Ellipse\u001b[0m\n",
      "\u001b[0;36m  File \u001b[0;32m\"/Users/samjett/Documents/Interactive_Jupyter/crop_widg/shapes.py\"\u001b[0;36m, line \u001b[0;32m12\u001b[0m\n\u001b[0;31m    \"\"\"\u001b[0m\n\u001b[0m       \n^\u001b[0m\n\u001b[0;31mIndentationError\u001b[0m\u001b[0;31m:\u001b[0m expected an indented block\n"
     ]
    }
   ],
   "source": [
    "import ipywidgets as widgets\n",
    "from ipywidgets import interact, interact_manual, interactive, Layout, GridBox, fixed\n",
    "from IPython.display import display, HTML, clear_output\n",
    "import time\n",
    "from PIL import Image, ImageDraw\n",
    "from sys import exit as sysexit\n",
    "from shapes import Rectangle, Ellipse\n",
    "import numpy as np\n",
    "\n",
    "def convert_sizes(x_size, y_size):\n",
    "    \"\"\"\n",
    "    Converts the x_size, a 2-elem tuple obtained from the x_slider, and the y_size, \n",
    "    a 2-elem tuple obtained from the y-slider, into the size format for the shape of interest.\n",
    "    \"\"\"\n",
    "\n",
    "def main(image_list, crop_shape = 'Rectangle', continuous_update=True, optimize = True,\n",
    "    callback = lambda x,y: print('{}: {}'.format(x,y))):\n",
    "    \"\"\"\n",
    "    This function takes a list of images and allows the user interactively crop these images through a vertical range slider and a horizontal range slider. Once the crop size is accepted, the callback kwarg will be called and provided the name of the cropped image (from image_list) and the shape of the cropped_image.\n",
    "\n",
    "    Arguments: \n",
    "    image_list - A list of image names\n",
    "    \n",
    "    shape - The desired type of crop shape\n",
    "    continuous_update (default: True) - Bool to indicate whether the plot should dynamically re-render as the user drags the slider, or should wait til slider release to rerender\n",
    "    optimize (default: True)- Bool to indicate whether the program can optimize for faster rendering of crop boxes, including displaying grayscale images\n",
    "    outline_color (default: red) - \n",
    "    callback - The function to call after the crop size is accepted (via button click)\n",
    "\n",
    "    Returns: \n",
    "    coord_dict - A dict mapping image names to cropped coordinates\n",
    "    \"\"\"\n",
    "    # Need these to retain the global scope\n",
    "    coord_dict = {}\n",
    "    SHAPE_DICT = {'Rectangle':Rectangle,'Ellipse':Ellipse} # shape arg mapping\n",
    "    \n",
    "    def show_image(image_name):\n",
    "        \"\"\"\n",
    "        Shows the image at the desired size\n",
    "        \"\"\"\n",
    "        clear_output()\n",
    "        global im\n",
    "        global im_draw\n",
    "        # Read image from file\n",
    "        im = Image.open(image_name)\n",
    "        if optimize:\n",
    "            im = im.convert('L')\n",
    "            im = Image.fromarray(np.array(im).astype(np.uint8))\n",
    "        \n",
    "        # Create copy of image to draw on\n",
    "        im_draw =im.copy()\n",
    "        display(HTML('<h3 style=\"margin:5px;text-align:center\">'+image_name+'</h3>'))\n",
    "        # Adjust the slider limits based on the pixel size of the image\n",
    "        x_size_selector.min, x_size_selector.max = 0, im.size[0]\n",
    "        x_mod.min, x_mod.max = 0, im.size[0]\n",
    "        y_size_selector.min, y_size_selector.max = 0, im.size[1]\n",
    "        y_mod.min, y_mod.max = 0, im.size[1]\n",
    "        y_size_selector.value = (int(im.size[1]/3), int(2*im.size[1]/3))\n",
    "        x_size_selector.value = (int(im.size[0]/3), int(2*im.size[0]/3))\n",
    "        \n",
    "        # Instantiate shape object\n",
    "        shape = SHAPE_DICT[crop_shape](x_size, y_size)\n",
    "        \n",
    "        # Get the axs and imshow on the existing axs\n",
    "        def add_crop_patch(x_size, y_size):\n",
    "            global im\n",
    "            global im_draw\n",
    "            \n",
    "            # Ensure shape is up to date on slider changes\n",
    "            shape.convert_sliders_to_shape_params(x_size, y_size)\n",
    "            # Draw the shape on im_draw\n",
    "            shape.draw(im_draw)\n",
    "            # Plot the shape on im_draw\n",
    "            shape.plot(im_draw, optimize)\n",
    "            im_draw = im.copy()\n",
    "\n",
    "        interact(add_crop_patch, x_size=x_mod, y_size = y_mod)\n",
    "        \n",
    "        # Click button to save params\n",
    "        save_crop_sizes=interact.options(manual=True, manual_name=\"Save Crop Sizes\")\n",
    "        @save_crop_sizes\n",
    "        def on_button_click(image_name=fixed(image_name)):\n",
    "            \"\"\"\n",
    "            This will handle the onbutton click event of the cropper.\n",
    "            \"\"\"\n",
    "            # Compute the size based on the value of x_mod and y_mod\n",
    "            x_size, y_size = x_mod.value, y_mod.value\n",
    "            colstart= x_size[0]\n",
    "            width = x_size[1]-x_size[0]\n",
    "            rowstart = im.shape[0]-y_size[1]\n",
    "            height = y_size[1]-y_size[0]\n",
    "            size = (colstart, rowstart, width, height)\n",
    "            \n",
    "            # Call the callback function\n",
    "            callback(image_name, size)\n",
    "            coord_dict[image_name] = size\n",
    "            im_index = image_list.index(image_name)\n",
    "            if im_index != len(image_list)-1:\n",
    "                image_selector.value = image_list[im_index+1]\n",
    "            else:\n",
    "                print('Made it through all the tests; Stopping execution now.')\n",
    "                sysexit()\n",
    "            time.sleep(5) # Change this to change how long you have to look at the cropped results\n",
    "            return\n",
    "        return {'image':im, 'size':(0,0,0,0)}\n",
    "    # Define test_name selector\n",
    "    image_selector = widgets.Dropdown(\n",
    "    options=image_list,\n",
    "    value=image_list[0],\n",
    "    description='Image Name:',\n",
    "    disabled=False,\n",
    "    continuous_update=continuous_update,\n",
    "    layout=Layout(grid_area='im_selector')\n",
    "    )\n",
    "\n",
    "    # Define selectors for int range sliders; We'll define value and max, min \n",
    "    # once we know image size\n",
    "    x_size_selector = widgets.IntRangeSlider(\n",
    "        step=1,\n",
    "        description='Width: ',\n",
    "        continuous_update=continuous_update,\n",
    "        orientation='horizontal',\n",
    "        layout=Layout(width='auto', grid_area='width')\n",
    "    )\n",
    "\n",
    "    y_size_selector = widgets.IntRangeSlider(\n",
    "        step=1,\n",
    "        description='Height: ',\n",
    "        continuous_update=continuous_update,\n",
    "        orientation='vertical',\n",
    "#         readout=True,\n",
    "        layout=Layout(width='auto',height = 'auto', grid_area='height')\n",
    "    )\n",
    "    # Define mod sliders for cropping function; We'll define value and max, min \n",
    "    # once we know image size\n",
    "    x_mod = widgets.IntRangeSlider(\n",
    "        layout=Layout(width='0%',height='0%', visibility='hidden')\n",
    "    )\n",
    "    y_mod = widgets.IntRangeSlider(\n",
    "        layout=Layout(width='0%',height='0%', visibility='hidden')\n",
    "    )\n",
    "    im_mod = widgets.Select(\n",
    "    options=image_list,\n",
    "    value=image_list[0],\n",
    "    layout=Layout(width='0%',height='0%', visibility='hidden')\n",
    "    )\n",
    "\n",
    "    # Link the x,y,im selectors to mod widgets for the interactive function\n",
    "    widgetLinkx = widgets.jslink((x_size_selector, 'value'), (x_mod, 'value'))\n",
    "    widgetLinky = widgets.jslink((y_size_selector, 'value'), (y_mod, 'value'))\n",
    "    widgetLinktn = widgets.jslink((image_selector, 'index'), (im_mod, 'index'))\n",
    "\n",
    "    cropper = interactive(show_image, image_name =im_mod, layout=Layout(width='auto', grid_area='main'));\n",
    "    return GridBox(children=[image_selector,x_size_selector,y_size_selector, cropper ],\n",
    "        layout=Layout(\n",
    "            width='90%',\n",
    "            grid_template_rows='10% 90%',\n",
    "            grid_template_columns='30% 70%',\n",
    "            grid_template_areas='''\n",
    "            \"im_selector width\"\n",
    "            \"height main \"\n",
    "            '''))"
   ]
  },
  {
   "cell_type": "code",
   "execution_count": 15,
   "metadata": {},
   "outputs": [
    {
     "data": {
      "text/plain": [
       "'me)'"
      ]
     },
     "metadata": {},
     "output_type": "display_data"
    },
    {
     "data": {
      "text/plain": [
       "'you'"
      ]
     },
     "metadata": {},
     "output_type": "display_data"
    },
    {
     "data": {
      "text/plain": [
       "'you'"
      ]
     },
     "metadata": {},
     "output_type": "display_data"
    }
   ],
   "source": [
    "display('me)')\n",
    "display('you')\n",
    "def func():\n",
    "    display('you')\n",
    "    \n",
    "func()"
   ]
  }
 ],
 "metadata": {
  "kernelspec": {
   "display_name": "interactive_kernel",
   "language": "python",
   "name": "interactive_kernel"
  },
  "language_info": {
   "codemirror_mode": {
    "name": "ipython",
    "version": 3
   },
   "file_extension": ".py",
   "mimetype": "text/x-python",
   "name": "python",
   "nbconvert_exporter": "python",
   "pygments_lexer": "ipython3",
   "version": "3.7.3"
  }
 },
 "nbformat": 4,
 "nbformat_minor": 2
}

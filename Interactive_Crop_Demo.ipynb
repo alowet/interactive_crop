{
 "cells": [
  {
   "cell_type": "markdown",
   "metadata": {},
   "source": [
    "# Interactive Cropping Tool Demo"
   ]
  },
  {
   "cell_type": "code",
   "execution_count": 44,
   "metadata": {},
   "outputs": [
    {
     "data": {
      "text/plain": [
       "0"
      ]
     },
     "metadata": {},
     "output_type": "display_data"
    },
    {
     "data": {
      "application/vnd.jupyter.widget-view+json": {
       "model_id": "41ba9d8f044d43bcaf83287052cd892d",
       "version_major": 2,
       "version_minor": 0
      },
      "text/plain": [
       "GridBox(children=(Dropdown(description='Test Name:', layout=Layout(grid_area='test_name'), options=('image_sam…"
      ]
     },
     "metadata": {},
     "output_type": "display_data"
    }
   ],
   "source": [
    "# import interactive_crop\n",
    "import os\n",
    "image_list = ['image_samples/'+i for i in os.listdir('image_samples')]\n",
    "main(image_list)"
   ]
  },
  {
   "cell_type": "code",
   "execution_count": 43,
   "metadata": {},
   "outputs": [],
   "source": [
    "import ipywidgets as widgets\n",
    "from ipywidgets import interact, interact_manual, interactive, Layout, GridBox, fixed\n",
    "from matplotlib import pyplot as plt\n",
    "from matplotlib import patches\n",
    "import IPython.display\n",
    "import time\n",
    "from PIL import Image, ImageDraw\n",
    "from sys import exit as sysexit\n",
    "import numpy as np\n",
    "\n",
    "# Change default output size of matplotlib figures\n",
    "plt.rcParams['figure.figsize'] = (13.0, 11.0)\n",
    "plt.rcParams['figure.dpi'] = 100 # default for me was 75\n",
    "\n",
    "checked_crop = False\n",
    "im = 0\n",
    "def main(image_list, shape = 'Rectangle', \n",
    "    callback = lambda x,y: print('{}: {}'.format(x,y))):\n",
    "    \"\"\"\n",
    "    This function takes a list of images and allows the user interactively crop these images through a vertical range slider and a horizontal range slider. Once the crop size is accepted, the callback kwarg will be called and provided the name of the cropped image (from image_list) and the shape of the cropped_image.\n",
    "\n",
    "    Arguments: \n",
    "    image_list - A list of image names\n",
    "    shape - The desired type of crop shape\n",
    "    callback - The function to call after the crop size is accepted\n",
    "\n",
    "    Returns: \n",
    "    coord_dict - A dict mapping image names to cropped coordinates\n",
    "    \"\"\"\n",
    "    coord_dict = {}\n",
    "    def show_image(image_name):\n",
    "        \"\"\"\n",
    "        Shows the image at the desired size\n",
    "        \"\"\"\n",
    "        # Read image from file and convert to ndarray\n",
    "        im = Image.open(image_name)\n",
    "        d_im = IPython.display.Image(image_name)\n",
    "        im_arr = np.array(im)\n",
    "        \n",
    "        # Adjust the slider limits based on the pixel size of the image\n",
    "        x_size_selector.value = (im_arr.shape[1]/3, 2*im_arr.shape[1]/3)\n",
    "        x_size_selector.min, x_size_selector.max = 0, im_arr.shape[1]\n",
    "        x_size_selector.value = (im_arr.shape[0]/3, 2*im_arr.shape[0]/3)\n",
    "        y_size_selector.min, y_size_selector.max = 0, im_arr.shape[0]\n",
    "        \n",
    "        # Get the axs and imshow on the existing axs\n",
    "        def add_crop_patch(x_size, y_size):\n",
    "            # parse inputs to crop fxn\n",
    "            colstart= x_size[0]\n",
    "            width = x_size[1]-x_size[0]\n",
    "            rowstart = im_arr.shape[0]-y_size[1]\n",
    "            height = y_size[1]-y_size[0]\n",
    "            im_new = im.copy()\n",
    "            draw = ImageDraw.Draw(im_new)\n",
    "            draw.rectangle((colstart, rowstart, colstart+width, rowstart+height), width=10)\n",
    "            display(im_new)\n",
    "        current_size = interact(add_crop_patch, x_size=x_mod, y_size = y_mod)\n",
    "        \n",
    "        # Click button to save params\n",
    "        save_crop_sizes=interact.options(manual=True, manual_name=\"Save Crop Sizes\")\n",
    "        @save_crop_sizes\n",
    "        def on_button_click(image_name=fixed(image_name)):\n",
    "            \"\"\"\n",
    "            This will handle the onbutton click event of the cropper.\n",
    "            \"\"\"\n",
    "            # Compute the size based on the value of x_mod and y_mod\n",
    "            x_size, y_size = x_mod.value, y_mod.value\n",
    "            colstart= x_size[0]\n",
    "            width = x_size[1]-x_size[0]\n",
    "            rowstart = im_arr.shape[0]-y_size[1]\n",
    "            height = y_size[1]-y_size[0]\n",
    "            size = (colstart, rowstart, width, height)\n",
    "            \n",
    "            # Call the callback function\n",
    "            callback(image_name, size)\n",
    "            print(size)\n",
    "            coord_dict[image_name] = size\n",
    "            im_index = image_list.index(image_name)\n",
    "            if im_index != len(image_list)-1:\n",
    "                image_selector.value = image_list[im_index+1]\n",
    "            else:\n",
    "                print('Made it through all the tests; Stopping execution now.')\n",
    "                sysexit()\n",
    "            time.sleep(5) # Change this to change how long you have to look at the cropped results\n",
    "            return\n",
    "        return {'image':im, 'size':current_size}\n",
    "    display(im)\n",
    "    # Define test_name selector\n",
    "    image_selector = widgets.Dropdown(\n",
    "    options=image_list,\n",
    "    value=image_list[0],\n",
    "    description='Test Name:',\n",
    "    disabled=False,\n",
    "    continuous_update=False,\n",
    "    layout=Layout(grid_area='test_name')\n",
    "    )\n",
    "\n",
    "    # Define selectors for int range sliders\n",
    "    x_size_selector = widgets.IntRangeSlider(\n",
    "        value=(400,800),\n",
    "        min=0,\n",
    "        max=2448,\n",
    "        step=1,\n",
    "        description='Width: ',\n",
    "        continuous_update=False,\n",
    "        orientation='horizontal',\n",
    "        layout=Layout(width='auto', grid_area='width')\n",
    "    )\n",
    "\n",
    "    y_size_selector = widgets.IntRangeSlider(\n",
    "        value=(400, 800),\n",
    "        min=0,\n",
    "        max=2050,\n",
    "        step=1,\n",
    "        description='Height: ',\n",
    "        continuous_update=False,\n",
    "        orientation='vertical',\n",
    "        readout=True,\n",
    "        layout=Layout(width='auto',height = 'auto', grid_area='height', display='hidden')\n",
    "    )\n",
    "    x_mod = widgets.IntRangeSlider(\n",
    "        value=(800,1400),\n",
    "        min=0,\n",
    "        max=2448,\n",
    "        layout=Layout(width='0%',height='0%', visibility='hidden')\n",
    "    )\n",
    "    y_mod = widgets.IntRangeSlider(\n",
    "        value=(400, 800),\n",
    "        min=0,\n",
    "        max=2050,\n",
    "        layout=Layout(width='0%',height='0%', visibility='hidden')\n",
    "    )\n",
    "    im_mod = widgets.Select(\n",
    "    options=image_list,\n",
    "    value=image_list[0],\n",
    "    layout=Layout(width='0%',height='0%', visibility='hidden')\n",
    "    )\n",
    "\n",
    "    # Link the x,y,im selectors to mod widgets for the interactive function\n",
    "    widgetLinkx = widgets.jslink((x_size_selector, 'value'), (x_mod, 'value'))\n",
    "    widgetLinky = widgets.jslink((y_size_selector, 'value'), (y_mod, 'value'))\n",
    "    widgetLinktn = widgets.jslink((image_selector, 'index'), (im_mod, 'index'))\n",
    "\n",
    "    cropper = interactive(show_image, image_name =image_selector, layout=Layout(width='auto', grid_area='main'));\n",
    "    plt.show()\n",
    "    return GridBox(children=[image_selector,x_size_selector,y_size_selector, cropper ],\n",
    "        layout=Layout(\n",
    "            width='90%',\n",
    "            grid_template_rows='10% 90%',\n",
    "            grid_template_columns='30% 70%',\n",
    "            grid_template_areas='''\n",
    "            \"test_name width\"\n",
    "            \"height main \"\n",
    "            '''))\n",
    "    return coord_dict"
   ]
  },
  {
   "cell_type": "code",
   "execution_count": 12,
   "metadata": {},
   "outputs": [
    {
     "data": {
      "text/plain": [
       "(0, 0, 100, 100)"
      ]
     },
     "execution_count": 12,
     "metadata": {},
     "output_type": "execute_result"
    }
   ],
   "source": [
    "(0,0)+(100,100)"
   ]
  },
  {
   "cell_type": "code",
   "execution_count": 32,
   "metadata": {},
   "outputs": [],
   "source": [
    "from ipywidgets import Image\n",
    "\n",
    "file = open(\"image_samples/elephant.jpg\", \"rb\")\n",
    "image = file.read()\n",
    "# help(image)\n",
    "\n",
    "im_widg = Image(\n",
    "value=image,\n",
    "format='png',\n",
    "width=500,\n",
    "height=1200,\n",
    ")\n",
    "# help(im_widg)"
   ]
  },
  {
   "cell_type": "code",
   "execution_count": 33,
   "metadata": {},
   "outputs": [],
   "source": [
    "%%capture\n",
    "%matplotlib inline\n",
    "from ipywidgets import interact, widgets\n",
    "from IPython.display import display\n",
    "import matplotlib.pyplot as plt\n",
    "import warnings\n",
    "\n",
    "from skimage.morphology import disk\n",
    "from skimage.filters import rank\n",
    "from skimage.color import rgb2gray\n",
    "import skimage.data\n",
    "\n",
    "def f(Median_Size):\n",
    "    selem = disk(int(Median_Size))\n",
    "    with warnings.catch_warnings():\n",
    "        warnings.simplefilter(\"ignore\")\n",
    "        img_median = rank.median(img_gray, selem=selem) \n",
    "\n",
    "    ax_neu.imshow(img_median, cmap=\"gray\")\n",
    "    fig.canvas.draw()\n",
    "    display(fig)\n",
    "\n",
    "image = skimage.data.camera() #plt.imread(\"Test.png\")       \n",
    "img_gray = rgb2gray(image)\n",
    "\n",
    "fig = plt.figure(figsize=(6, 4))\n",
    "ax_orig = fig.add_subplot(121) \n",
    "ax_neu = fig.add_subplot(122) \n",
    "\n",
    "ax_orig.imshow(img_gray, cmap=\"gray\")\n",
    "ax_neu.imshow(img_gray, cmap=\"gray\")"
   ]
  },
  {
   "cell_type": "code",
   "execution_count": 34,
   "metadata": {},
   "outputs": [
    {
     "data": {
      "application/vnd.jupyter.widget-view+json": {
       "model_id": "2c5a7c41d0f84fd8b6f6ae5a726150ed",
       "version_major": 2,
       "version_minor": 0
      },
      "text/plain": [
       "interactive(children=(IntSlider(value=1, description='Median_Size', max=21, min=1, step=2), Output()), _dom_cl…"
      ]
     },
     "metadata": {},
     "output_type": "display_data"
    }
   ],
   "source": [
    "interact(f, Median_Size=widgets.IntSlider(min=1,max=21,step=2,value=1));"
   ]
  },
  {
   "cell_type": "code",
   "execution_count": 41,
   "metadata": {},
   "outputs": [
    {
     "data": {
      "text/plain": [
       "0"
      ]
     },
     "metadata": {},
     "output_type": "display_data"
    },
    {
     "data": {
      "application/vnd.jupyter.widget-view+json": {
       "model_id": "264006523b2d4bc0a2e68e1c318e255c",
       "version_major": 2,
       "version_minor": 0
      },
      "text/plain": [
       "GridBox(children=(Dropdown(description='Test Name:', layout=Layout(grid_area='test_name'), options=('image_sam…"
      ]
     },
     "metadata": {},
     "output_type": "display_data"
    }
   ],
   "source": [
    "# import interactive_crop\n",
    "import os\n",
    "image_list = ['image_samples/'+i for i in os.listdir('image_samples')]\n",
    "main(image_list)"
   ]
  }
 ],
 "metadata": {
  "kernelspec": {
   "display_name": "interactive_kernel",
   "language": "python",
   "name": "interactive_kernel"
  },
  "language_info": {
   "codemirror_mode": {
    "name": "ipython",
    "version": 3
   },
   "file_extension": ".py",
   "mimetype": "text/x-python",
   "name": "python",
   "nbconvert_exporter": "python",
   "pygments_lexer": "ipython3",
   "version": "3.7.3"
  }
 },
 "nbformat": 4,
 "nbformat_minor": 2
}

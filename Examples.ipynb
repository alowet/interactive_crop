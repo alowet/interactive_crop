{
 "cells": [
  {
   "cell_type": "markdown",
   "metadata": {},
   "source": [
    "# Examples"
   ]
  },
  {
   "cell_type": "code",
   "execution_count": 16,
   "metadata": {},
   "outputs": [],
   "source": [
    "import os\n",
    "import numpy as np\n",
    "\n",
    "# Import the cropping widget and example images\n",
    "from interactivecrop.interactivecrop import main as crop\n",
    "from interactivecrop.samples import sample_images, sample_names\n",
    "PATH_TO_SAMPLES = 'interactivecrop/image_samples/'"
   ]
  },
  {
   "cell_type": "markdown",
   "metadata": {},
   "source": [
    "## Standard Usage with Image Arguments"
   ]
  },
  {
   "cell_type": "code",
   "execution_count": 4,
   "metadata": {},
   "outputs": [
    {
     "data": {
      "application/vnd.jupyter.widget-view+json": {
       "model_id": "4a713aca03df4731b8f99184eab31d07",
       "version_major": 2,
       "version_minor": 0
      },
      "text/plain": [
       "GridBox(children=(Dropdown(description='Img Name:', layout=Layout(grid_area='im_selector', width='100%'), opti…"
      ]
     },
     "metadata": {},
     "output_type": "display_data"
    }
   ],
   "source": [
    "# from cropping_widget import main as crop\n",
    "image_list = [PATH_TO_SAMPLES+i for i in os.listdir(PATH_TO_SAMPLES)]\n",
    "crop(image_list)"
   ]
  },
  {
   "cell_type": "markdown",
   "metadata": {},
   "source": [
    "### Interactive_crop with filename arguments with named images and no optimization"
   ]
  },
  {
   "cell_type": "code",
   "execution_count": 8,
   "metadata": {},
   "outputs": [
    {
     "data": {
      "application/vnd.jupyter.widget-view+json": {
       "model_id": "64ccb7a8e3514458b537a67cb979b33b",
       "version_major": 2,
       "version_minor": 0
      },
      "text/plain": [
       "GridBox(children=(Dropdown(description='Img Name:', layout=Layout(grid_area='im_selector', width='100%'), opti…"
      ]
     },
     "metadata": {},
     "output_type": "display_data"
    }
   ],
   "source": [
    "image_list = [PATH_TO_SAMPLES+i for i in os.listdir(PATH_TO_SAMPLES)]\n",
    "image_name_list = [i[:-4].title() for i in os.listdir(PATH_TO_SAMPLES)]\n",
    "\n",
    "crop(image_list, image_name_list=image_name_list, optimize=False)"
   ]
  },
  {
   "cell_type": "markdown",
   "metadata": {},
   "source": [
    "### Interactive_crop with filename arguments with named images, optimization, continuous_update=False, and with triangle shape"
   ]
  },
  {
   "cell_type": "code",
   "execution_count": 14,
   "metadata": {},
   "outputs": [
    {
     "data": {
      "application/vnd.jupyter.widget-view+json": {
       "model_id": "3e07fff141be440bb1ff5a3765ce20da",
       "version_major": 2,
       "version_minor": 0
      },
      "text/plain": [
       "GridBox(children=(Dropdown(description='Img Name:', layout=Layout(grid_area='im_selector', width='100%'), opti…"
      ]
     },
     "metadata": {},
     "output_type": "display_data"
    }
   ],
   "source": [
    "image_list = [PATH_TO_SAMPLES+i for i in os.listdir(PATH_TO_SAMPLES)]\n",
    "image_name_list = [i[:-4].title() for i in os.listdir(PATH_TO_SAMPLES)]\n",
    "\n",
    "crop(image_list, image_name_list=image_name_list, continuous_update=False, crop_shape = 'Triangle')"
   ]
  },
  {
   "cell_type": "markdown",
   "metadata": {},
   "source": [
    "### Interactive_crop with np.ndarray arguments with named images, optimization, custom callback function that saves cropped image to file, and with elliptical shape"
   ]
  },
  {
   "cell_type": "code",
   "execution_count": 18,
   "metadata": {},
   "outputs": [
    {
     "data": {
      "application/vnd.jupyter.widget-view+json": {
       "model_id": "e2b7b16d13514d239e81161d8eea9705",
       "version_major": 2,
       "version_minor": 0
      },
      "text/plain": [
       "GridBox(children=(Dropdown(description='Img Name:', layout=Layout(grid_area='im_selector', width='100%'), opti…"
      ]
     },
     "metadata": {},
     "output_type": "display_data"
    }
   ],
   "source": [
    "from PIL import Image, ImageDraw, ImageFont\n",
    "\n",
    "image_list = [np.array(Image.open(PATH_TO_SAMPLES+i)) for i in os.listdir(PATH_TO_SAMPLES)]\n",
    "image_name_list = [i[:-4].title() for i in os.listdir(PATH_TO_SAMPLES)]\n",
    "\n",
    "# Define the callback to save the image\n",
    "def callback(image_name, im):\n",
    "    fnt = ImageFont.truetype('static/arial.ttf', 50)\n",
    "    # Get a font\n",
    "    im.draw() # Draw the shape onto the PIL image; Otherwise we print the unmodified image. Note draw() is inplace operator\n",
    "    PIL_im = im.image # Access the PIL image from the 'shape' object\n",
    "    d = ImageDraw.Draw(PIL_im)\n",
    "    d.text((10,10), text=str(im.size), font=fnt, fill='white') # Draw the crop shape onto the image\n",
    "    PIL_im.save(image_name+'_w_Text.jpg')\n",
    "    \n",
    "crop(image_list, image_name_list=image_name_list, callback=callback, crop_shape = 'Ellipse')"
   ]
  }
 ],
 "metadata": {
  "kernelspec": {
   "display_name": "interactive_kernel",
   "language": "python",
   "name": "interactive_kernel"
  },
  "language_info": {
   "codemirror_mode": {
    "name": "ipython",
    "version": 3
   },
   "file_extension": ".py",
   "mimetype": "text/x-python",
   "name": "python",
   "nbconvert_exporter": "python",
   "pygments_lexer": "ipython3",
   "version": "3.7.3"
  }
 },
 "nbformat": 4,
 "nbformat_minor": 2
}

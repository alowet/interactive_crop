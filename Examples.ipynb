{
 "cells": [
  {
   "cell_type": "markdown",
   "metadata": {},
   "source": [
    "# Examples"
   ]
  },
  {
   "cell_type": "markdown",
   "metadata": {},
   "source": [
    "## Standard Usage with Image Arguments"
   ]
  },
  {
   "cell_type": "code",
   "execution_count": 1,
   "metadata": {},
   "outputs": [
    {
     "data": {
      "application/vnd.jupyter.widget-view+json": {
       "model_id": "5454dbf4659a4b299a803b8c4cb16bb5",
       "version_major": 2,
       "version_minor": 0
      },
      "text/plain": [
       "GridBox(children=(Dropdown(description='Img Name:', layout=Layout(grid_area='im_selector', width='100%'), opti…"
      ]
     },
     "metadata": {},
     "output_type": "display_data"
    }
   ],
   "source": [
    "from cropping_widget import main as crop\n",
    "import os\n",
    "image_list = ['image_samples/'+i for i in os.listdir('image_samples')]\n",
    "crop(image_list)\n"
   ]
  },
  {
   "cell_type": "markdown",
   "metadata": {},
   "source": [
    "### Interactive_crop with filename arguments with named images and no optimization"
   ]
  },
  {
   "cell_type": "code",
   "execution_count": 3,
   "metadata": {},
   "outputs": [
    {
     "data": {
      "application/vnd.jupyter.widget-view+json": {
       "model_id": "8f1e28cb8f7049898ea1438a3630ea75",
       "version_major": 2,
       "version_minor": 0
      },
      "text/plain": [
       "GridBox(children=(Dropdown(description='Img Name:', layout=Layout(grid_area='im_selector', width='100%'), opti…"
      ]
     },
     "metadata": {},
     "output_type": "display_data"
    }
   ],
   "source": [
    "from cropping_widget import main as crop\n",
    "import os\n",
    "image_list = ['image_samples/'+i for i in os.listdir('image_samples')]\n",
    "image_name_list = [i[:-4].title() for i in os.listdir('image_samples')]\n",
    "\n",
    "crop(image_list, image_name_list=image_name_list, optimize=False)\n"
   ]
  },
  {
   "cell_type": "markdown",
   "metadata": {},
   "source": [
    "### Interactive_crop with filename arguments with named images, optimization, continuous_update=False, and with triangle shape"
   ]
  },
  {
   "cell_type": "code",
   "execution_count": 2,
   "metadata": {},
   "outputs": [
    {
     "data": {
      "application/vnd.jupyter.widget-view+json": {
       "model_id": "52b74d5d08d643fc8b0ad014c25f244a",
       "version_major": 2,
       "version_minor": 0
      },
      "text/plain": [
       "GridBox(children=(Dropdown(description='Img Name:', layout=Layout(grid_area='im_selector', width='100%'), opti…"
      ]
     },
     "metadata": {},
     "output_type": "display_data"
    }
   ],
   "source": [
    "from cropping_widget import main as crop\n",
    "import os\n",
    "image_list = ['image_samples/'+i for i in os.listdir('image_samples')]\n",
    "image_name_list = [i[:-4].title() for i in os.listdir('image_samples')]\n",
    "\n",
    "crop(image_list, image_name_list=image_name_list, continuous_update=False, crop_shape = 'Triangle')\n"
   ]
  },
  {
   "cell_type": "markdown",
   "metadata": {},
   "source": [
    "### Interactive_crop with np.ndarray arguments with named images, optimization, custom callback function that saves cropped image to file, and with elliptical shape"
   ]
  },
  {
   "cell_type": "code",
   "execution_count": 23,
   "metadata": {},
   "outputs": [
    {
     "data": {
      "application/vnd.jupyter.widget-view+json": {
       "model_id": "eb7ec805b8d64637be6a33fa0e3402fe",
       "version_major": 2,
       "version_minor": 0
      },
      "text/plain": [
       "GridBox(children=(Dropdown(description='Img Name:', layout=Layout(grid_area='im_selector', width='100%'), opti…"
      ]
     },
     "metadata": {},
     "output_type": "display_data"
    }
   ],
   "source": [
    "from cropping_widget import main as crop\n",
    "import os\n",
    "import numpy as np\n",
    "from PIL import Image, ImageDraw, ImageFont\n",
    "\n",
    "image_list = [np.array(Image.open('image_samples/'+i)) for i in os.listdir('image_samples')]\n",
    "image_name_list = [i[:-4].title() for i in os.listdir('image_samples')]\n",
    "\n",
    "# Define the callback to save the image\n",
    "def callback(image_name, im):\n",
    "    fnt = ImageFont.truetype('arial.ttf', 50)\n",
    "    # Get a font\n",
    "    im.draw() # Draw the shape onto the PIL image; Otherwise we print the unmodified image. Note draw() is inplace operator\n",
    "    PIL_im = im.image # Access the PIL image from the 'shape' object\n",
    "    d = ImageDraw.Draw(PIL_im)\n",
    "    d.text((10,10), text=str(im.size), font=fnt, fill='white') # Draw the crop shape onto the image\n",
    "    PIL_im.save(image_name+'.jpg')\n",
    "    \n",
    "crop(image_list, image_name_list=image_name_list, callback=callback, crop_shape = 'Ellipse')"
   ]
  }
 ],
 "metadata": {
  "kernelspec": {
   "display_name": "interactive_kernel",
   "language": "python",
   "name": "interactive_kernel"
  },
  "language_info": {
   "codemirror_mode": {
    "name": "ipython",
    "version": 3
   },
   "file_extension": ".py",
   "mimetype": "text/x-python",
   "name": "python",
   "nbconvert_exporter": "python",
   "pygments_lexer": "ipython3",
   "version": "3.7.3"
  }
 },
 "nbformat": 4,
 "nbformat_minor": 2
}
